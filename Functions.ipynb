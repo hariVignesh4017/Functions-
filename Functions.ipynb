{
 "cells": [
  {
   "cell_type": "markdown",
   "metadata": {},
   "source": [
    "                                                                        FUNCTIONS"
   ]
  },
  {
   "cell_type": "markdown",
   "metadata": {},
   "source": [
    "1. # What is the difference between a function and a method in Python?\n",
    "Function\n",
    "A function is a standalone block of code that performs a specific task. It is not inherently tied to any object.\n",
    "Defined by The def keyword.\n",
    " # Ex\n",
    " def greet(name):\n",
    "    return \"Hello, {name}!\"\n",
    "print(greet(\"Hari\"))\n",
    "\n",
    "Method\n",
    "A method is a function that is associated with an object. In Python, methods are typically defined inside classes and are called on an instance of that class.\n",
    "# Ex \n",
    "class Greeter:\n",
    "    def __init__(self, name):\n",
    "        self.name = name\n",
    "\n",
    "    def greet(self):\n",
    "        return \"Hello, {self.name}!\"\n",
    "greeter = Greeter(\"Hari\")\n",
    "print(greeter.greet()) "
   ]
  },
  {
   "cell_type": "markdown",
   "metadata": {},
   "source": [
    " 2. # Explain the concept of function arguments and parameters in Python?\n",
    "function arguments and parameters are related concepts that help you pass data into functions.\n",
    "\n",
    "Parameters are variables that are listed inside the function definition. They act as placeholders for the values that will be passed to the function.\n",
    "Arguments are the actual values you pass to the function when you call it.\n",
    "# Ex\n",
    "# Function definition with parameters (x and y)\n",
    "def add(x, y):\n",
    "    return x + y\n",
    "result = add(3, 7)\n",
    "print(result)  # Output: 10"
   ]
  },
  {
   "cell_type": "markdown",
   "metadata": {},
   "source": [
    " 3. # What are the different ways to define and call a function in Python?\n",
    "There are several ways to define and call a function.\n",
    "Some are \n",
    "# 1. Basic Function Definition\n",
    "You define a function using the def keyword, followed by the function name and parameters.\n",
    "Ex:\n",
    "# Function definition\n",
    "def greet(name):\n",
    "    return \"Hello, \" + name\n",
    "print(greet(\"Hari\"))  # Output: Hello, Hari\n",
    "\n",
    "2. # Function with Default Parameters\n",
    "You can define default values for parameters. If the caller doesn't provide a value for that parameter, the default is used.\n",
    "Ex:\n",
    "def greet(name=\"Guest\"):\n",
    "    return \"Hello, \" + name\n",
    "print(greet())        # Output: Hello, Guest\n",
    "print(greet(\"raj\"))   # Output: Hello, raj\n",
    "\n",
    "3. # Function with Variable Number of Arguments (*args)\n",
    "You can define a function that accepts a variable number of arguments using *args.\n",
    "Ex:\n",
    "def greet(*names):\n",
    "    for name in names:\n",
    "        print(\"Hello, \" + name)\n",
    "\n",
    "greet(\"Hari\", \"Kevin\", \"Anu\")\n",
    "# Output:\n",
    "# Hello, Hari\n",
    "# Hello, Kevin\n",
    "# Hello, Anu\n",
    "\n",
    "4. # Function with Keyword Arguments (**kwargs)\n",
    "You can also pass a variable number of keyword arguments using **kwargs. This allows you to pass values as key-value pairs.\n",
    "Ex:\n",
    "def greet(**people):\n",
    "    for name, greeting in people.items():\n",
    "        print(greeting + \", \" + name)\n",
    "\n",
    "greet(Hari=\"Good morning\", Kevin=\"Hello\", raj=\"Hey\")\n",
    "# Output:\n",
    "# Good morning, Hari\n",
    "# Hello, Kevin\n",
    "# Hey, raj\n",
    "\n",
    "5. # Lambda Functions (Anonymous Functions)\n",
    "A lambda function is a small, anonymous function defined using the lambda keyword.\n",
    "\n",
    "Ex:\n",
    "add = lambda x, y: x + y\n",
    "print(add(3, 5))  # Output: 8\n",
    "\n",
    "6. # Function as an Argument\n",
    "You can pass a function as an argument to another function.\n",
    "\n",
    "Example:\n",
    "python\n",
    "def call_function(func, x, y):\n",
    "    return func(x, y)\n",
    "def multiply(x, y):\n",
    "    return x * y\n",
    "result = call_function(multiply, 3, 4)\n",
    "print(result)  # Output: 12\n",
    "\n",
    "7. # Nested Functions (Function Inside Another Function)\n",
    "A function can be defined inside another function. This is called a nested function.\n",
    "Ex:\n",
    "def outer_function():\n",
    "    def inner_function():\n",
    "        print(\"This is the inner function.\")\n",
    "    inner_function()\n",
    "outer_function()  # Output: This is the inner function."
   ]
  },
  {
   "cell_type": "markdown",
   "metadata": {},
   "source": [
    " 4. # What is the purpose of the `return` statement in a Python function?\n",
    "# The purpose of the return statement in a Python function is to send a result or value back to the caller. It allows the function to provide an output after performing its operations, which can then be used or stored in a variable.\n",
    "# Ex:-\n",
    "def add(x, y):\n",
    "    result = x + y\n",
    "    return result \n",
    "sum = add(3, 7)  # Calling the function and storing the returned value\n",
    "print(sum)  # Output: 10"
   ]
  },
  {
   "cell_type": "markdown",
   "metadata": {},
   "source": [
    " 5. # What are iterators in Python and how do they differ from iterables?\n",
    " Iterable: An object that can be looped over (like a list, string, or tuple). It provides an iterator when you call iter() on it.\n",
    "Iterator: An object that keeps track of the current position and gives you one item at a time when you call next().\n",
    "Ex\n",
    "# Iterable: A list\n",
    "num = [1, 2, 3,4]\n",
    "# Create an iterator from the iterable\n",
    "iterator = iter(num)\n",
    "# Using the iterator to get output one by one\n",
    "print(next(iterator))  # Output: 1\n",
    "print(next(iterator))  # Output: 2\n",
    "\n"
   ]
  },
  {
   "cell_type": "markdown",
   "metadata": {},
   "source": [
    " 6. # Explain the concept of generators in Python and how they are defined?\n",
    " A generator in Python is a special type of function that allows you to generate a sequence of values one at a time, instead of returning all values at once like a regular function.\n",
    "Ex:-\n",
    "# generator function\n",
    "def count_up_to(max):\n",
    "    count = 1\n",
    "    while count <= max:\n",
    "        yield count  # Yield the current value of count\n",
    "        count += 1  # Move to the next number\n",
    "\n",
    "# Create a generator object\n",
    "counter = count_up_to(5)\n",
    "# Get values from the generator\n",
    "print(next(counter))  # Output: 1\n",
    "print(next(counter))  # Output: 2\n",
    "print(next(counter))  # Output: 3\n"
   ]
  },
  {
   "cell_type": "markdown",
   "metadata": {},
   "source": [
    " 7. # What are the advantages of using generators over regular functions?\n",
    "Generators have several advantages over regular functions when it comes to handling large data or sequences.\n",
    "Advantages of Generators:\n",
    "Memory Efficiency:\n",
    "Generators do not store all values in memory at once. Instead, they generate values one at a time when needed, which is more efficient for large datasets.\n",
    "Lazy Evaluation:\n",
    "Generators only calculate values when they are required. This means they don’t do unnecessary work, which can improve performance.\n",
    "Convenience:\n",
    "Generators are often easier to write and more readable for iterating over data compared to creating complex loops."
   ]
  },
  {
   "cell_type": "markdown",
   "metadata": {},
   "source": [
    " 8. # What is a lambda function in Python and when is it typically used?\n",
    "  A lambda function in Python is a small, simple function that is defined using the lambda keyword. It can take any number of inputs but only has one line of code that gets executed, and it automatically returns a result.\n",
    "lambda arguments: expression\n",
    "# Ex\n",
    "# A lambda function that adds two numbers\n",
    "add = lambda x, y: x + y\n",
    "# Calling the lambda function\n",
    "print(add(3, 5))  # Output: 8\n"
   ]
  },
  {
   "cell_type": "markdown",
   "metadata": {},
   "source": [
    " 9. # Explain the purpose and usage of the `map()` function in Python.\n",
    "Answer:-\n",
    "The map() function in Python is used to apply a function to each item in a collection (like a list, tuple, or string). It helps you process each element in the collection without needing to write a loop.\n",
    "Purpose:\n",
    "The main purpose of map() is to apply a function to every item in an iterable (a list, for example) and return a new collection with the results.\n",
    "map(function, iterable)\n",
    "function: The function that will be applied to each item in the iterable.\n",
    "# Ex \n",
    "def square(x):\n",
    "    return x * x\n",
    "numbers = [1, 2, 3, 4, 5]\n",
    "squared_numbers = map(square, numbers)\n",
    "print(list(squared_numbers)\n"
   ]
  },
  {
   "cell_type": "markdown",
   "metadata": {},
   "source": [
    " 10. # What is The map(), reduce(), and filter() functions in Python are all used to process collections (like lists or tuples), but they have different purposes and behaviors.\n",
    "\n",
    "1. map() function:\n",
    "Purpose: Applies a function to every item in a collection (like a list) and returns a new collection with the results.\n",
    "Output: A new collection (like a list) with transformed items.\n",
    "Example:\n",
    "\n",
    "# Function to square a number\n",
    "def square(x):\n",
    "    return x * x\n",
    "numbers = [1, 2, 3, 4]\n",
    "# Using map to square each number in the list\n",
    "squared_numbers = map(square, numbers)\n",
    "print(list(squared_numbers))  # Output: [1, 4, 9, 16]\n",
    "2. reduce() function:\n",
    "Purpose: Applies a function to reduce a collection of items into a single value (it works by combining items one by one).\n",
    "Output: A single result after combining all the items.\n",
    "Ex:\n",
    "from functools import reduce\n",
    "# Function to add two numbers\n",
    "def add(x, y):\n",
    "    return x + y\n",
    "numbers = [1, 2, 3, 4]\n",
    "# Using reduce to sum all the numbers in the list\n",
    "total = reduce(add, numbers)\n",
    "print(total)  # Output: 10\n",
    "3. filter() function:\n",
    "Purpose: Filters the items in a collection based on a condition. It keeps only the items for which the function returns True.\n",
    "Output: A new collection with only the items that meet the condition.\n",
    "Example:\n",
    "# Function to check if a number is even\n",
    "def is_even(x):\n",
    "    return x % 2 == 0\n",
    "numbers = [1, 2, 3, 4]\n",
    "# Using filter to keep only even numbers\n",
    "even_numbers = filter(is_even, numbers)\n",
    "print(list(even_numbers))  # Output: [2, 4]"
   ]
  },
  {
   "cell_type": "markdown",
   "metadata": {},
   "source": [
    "11. # Using pen & Paper write the internal mechanism for sum operation using  reduce function on this given, list:[47,11,42,13]; \n",
    "https://drive.google.com/file/d/1pu-AhoyMM2OYI0uy1jTSlwUdXS1fb8d0/view?usp=sharing"
   ]
  },
  {
   "cell_type": "markdown",
   "metadata": {},
   "source": [
    "PRACTICAL QUESTIONS"
   ]
  },
  {
   "cell_type": "code",
   "execution_count": 1,
   "metadata": {},
   "outputs": [
    {
     "name": "stdout",
     "output_type": "stream",
     "text": [
      "Sum of even numbers: 12\n"
     ]
    }
   ],
   "source": [
    "1. #Write a Python function that takes a list of numbers as input and returns the sum of all even numbers in the list ?\n",
    "#ans\n",
    "\n",
    "def sum_of_evens(numbers):\n",
    "    return sum(num for num in numbers if num % 2 == 0)\n",
    "numbers = [1, 2, 3, 4, 5, 6]\n",
    "result = sum_of_evens(numbers)\n",
    "print(\"Sum of even numbers:\", result)\n"
   ]
  },
  {
   "cell_type": "code",
   "execution_count": 2,
   "metadata": {},
   "outputs": [
    {
     "name": "stdout",
     "output_type": "stream",
     "text": [
      "hsengiV iraH\n"
     ]
    }
   ],
   "source": [
    " 2. # Create a Python function that accepts a string and returns the reverse of that string.\n",
    "def reverse_string(input_string):\n",
    "    return input_string[::-1]\n",
    "\n",
    "print(reverse_string(\"Hari Vignesh\"))"
   ]
  },
  {
   "cell_type": "code",
   "execution_count": 3,
   "metadata": {},
   "outputs": [
    {
     "name": "stdout",
     "output_type": "stream",
     "text": [
      "[1, 4, 9, 16, 25, 36]\n"
     ]
    }
   ],
   "source": [
    "3. # Implement a Python function that takes a list of integers and returns a new list containing the squares of each number.\n",
    "#Ans \n",
    "def square_numbers(numbers):\n",
    "    return [x ** 2 for x in numbers]\n",
    "    number= [1,2,3,4]\n",
    "squared = square_numbers(numbers)\n",
    "print(squared)"
   ]
  },
  {
   "cell_type": "code",
   "execution_count": 4,
   "metadata": {},
   "outputs": [
    {
     "name": "stdout",
     "output_type": "stream",
     "text": [
      "False\n"
     ]
    }
   ],
   "source": [
    " 4. # Write a Python function that checks if a given number is prime or not from 1 to 200.\n",
    "#Answer:-\n",
    "def is_prime(number):\n",
    "    if number < 2 or number > 200:\n",
    "        return \"Number must be between 1 and 200\"\n",
    "    for i in range(2, int(number ** 0.5) + 1):\n",
    "        if number % i == 0:\n",
    "            return False\n",
    "    return True\n",
    "\n",
    "    print(is_prime(29))  # Output: True\n",
    "print(is_prime(200))  # Output: False"
   ]
  },
  {
   "cell_type": "code",
   "execution_count": 5,
   "metadata": {},
   "outputs": [
    {
     "name": "stdout",
     "output_type": "stream",
     "text": [
      "1\n",
      "1\n",
      "2\n",
      "3\n",
      "5\n",
      "8\n",
      "13\n",
      "21\n",
      "34\n",
      "55\n"
     ]
    }
   ],
   "source": [
    " 5. #Create an iterator class in Python that generates the Fibonacci sequence up to a specified number of \n",
    "class FibonacciIterator:\n",
    "    def __init__(self, n):\n",
    "        self.n = n  # Number of terms in the sequence\n",
    "        self.a, self.b = 0, 1  # Initialize the first two Fibonacci numbers\n",
    "        self.count = 0  # To keep track of the number of terms generated\n",
    "\n",
    "    def __iter__(self):\n",
    "        return self  # The class itself is the iterator\n",
    "\n",
    "    def __next__(self):\n",
    "        if self.count >= self.n:  # If we've generated 'n' terms, stop the iteration\n",
    "            raise StopIteration\n",
    "        else:\n",
    "            self.count += 1\n",
    "            self.a, self.b = self.b, self.a + self.b  # Generate the next Fibonacci number\n",
    "            return self.a\n",
    "\n",
    "\n",
    "fib = FibonacciIterator(10)  # Generate first 10 Fibonacci numbers\n",
    "for num in fib:\n",
    "    print(num)"
   ]
  },
  {
   "cell_type": "code",
   "execution_count": 6,
   "metadata": {},
   "outputs": [
    {
     "name": "stdout",
     "output_type": "stream",
     "text": [
      "1\n",
      "2\n",
      "4\n",
      "8\n"
     ]
    }
   ],
   "source": [
    " 6. #Write a generator function in Python that yields the powers of 2 up to a given exponent.\n",
    "def powers_of_two(exponent):\n",
    "    for i in range(exponent + 1):\n",
    "        yield 2 ** i\n",
    "for power in powers_of_two(3):\n",
    "    print(power)"
   ]
  },
  {
   "cell_type": "code",
   "execution_count": 7,
   "metadata": {},
   "outputs": [],
   "source": [
    " 7. #Implement a generator function that reads a file line by line and yields each line as a string.\n",
    "#Ans\n",
    "\n",
    "def read_file_lines(file_path):\n",
    "  \"\"\"\n",
    "  Reads a file line by line and yields each line as a string.\n",
    "\n",
    "  Args:\n",
    "    file_path: The path to the file to read.\n",
    "\n",
    "  Yields:\n",
    "    Each line of the file as a string.\n",
    "  \"\"\"\n",
    "  with open(file_path, 'r') as file:\n",
    "    for line in file:\n",
    "      yield line.strip()"
   ]
  },
  {
   "cell_type": "code",
   "execution_count": 8,
   "metadata": {},
   "outputs": [
    {
     "name": "stdout",
     "output_type": "stream",
     "text": [
      "[(2, 1), (4, 2), (3, 3), (1, 4)]\n"
     ]
    }
   ],
   "source": [
    " 8. #Use a lambda function in Python to sort a list of tuples based on the second element of each tuple.\n",
    "#Ans\n",
    "# List of tuples\n",
    "tuples_list = [(1, 4), (2, 1), (3, 3), (4, 2)]\n",
    "\n",
    "# Sorting the list based on the second element of each tuple using a lambda function\n",
    "sorted_list = sorted(tuples_list, key=lambda x: x[1])\n",
    "\n",
    "# Print the sorted list\n",
    "print(sorted_list)"
   ]
  },
  {
   "cell_type": "code",
   "execution_count": 9,
   "metadata": {},
   "outputs": [
    {
     "name": "stdout",
     "output_type": "stream",
     "text": [
      "[32.0, 68.0, 98.6, 212.0]\n"
     ]
    }
   ],
   "source": [
    " 9. # Write a Python program that uses `map()` to convert a list of temperatures from Celsius to Fahrenheit.\n",
    "#Ans\n",
    "\n",
    "# List of temperatures in Celsius\n",
    "celsius_temperatures = [0, 20, 37, 100]\n",
    "\n",
    "# Function to convert Celsius to Fahrenheit\n",
    "def celsius_to_fahrenheit(celsius):\n",
    "    return (celsius * 9/5) + 32\n",
    "\n",
    "# Use map() to apply the conversion to each element in the list\n",
    "fahrenheit_temperatures = list(map(celsius_to_fahrenheit, celsius_temperatures))\n",
    "\n",
    "# Print the converted temperatures\n",
    "print(fahrenheit_temperatures)"
   ]
  },
  {
   "cell_type": "code",
   "execution_count": 10,
   "metadata": {},
   "outputs": [
    {
     "name": "stdout",
     "output_type": "stream",
     "text": [
      "Hll, Wrld!\n"
     ]
    }
   ],
   "source": [
    " 10. # Create a Python program that uses `filter()` to remove all the vowels from a given string.\n",
    "def is_not_vowel(char):\n",
    "    vowels = \"aeiouAEIOU\"  # List of vowels (both lowercase and uppercase)\n",
    "    return char not in vowels\n",
    "\n",
    "# Given string\n",
    "input_string = \"Hello, World!\"\n",
    "\n",
    "# Use filter() to remove vowels\n",
    "filtered_string = ''.join(filter(is_not_vowel, input_string))\n",
    "\n",
    "# Print the result\n",
    "print(filtered_string)"
   ]
  },
  {
   "cell_type": "code",
   "execution_count": 11,
   "metadata": {},
   "outputs": [
    {
     "name": "stdout",
     "output_type": "stream",
     "text": [
      "[(34587, 163.8), (98762, 284.0), (77226, 108.85000000000001), (88112, 84.97)]\n"
     ]
    }
   ],
   "source": [
    " #11 Imagine an accounting routine used in a book shop. It works on a list with sublists, which look like this\n",
    "# Ans\n",
    "\n",
    "orders = [\n",
    "    [34587, 'Learning Python, Mark Lutz', 4, 40.95],\n",
    "    [98762, 'Programming Python, Mark Lutz', 5, 56.80],\n",
    "    [77226, 'Head First Python, Paul Barry', 3, 32.95],\n",
    "    [88112, 'Einführung in Python3, Bernd Klein', 3, 24.99]\n",
    "]\n",
    "\n",
    "result = list(map(lambda order: (order[0], order[3] * order[2] + 10 if order[3] * order[2] < 100 else order[3] * order[2]), orders))\n",
    "\n",
    "print(result)\n",
    "\n"
   ]
  },
  {
   "cell_type": "code",
   "execution_count": null,
   "metadata": {},
   "outputs": [],
   "source": []
  },
  {
   "cell_type": "code",
   "execution_count": null,
   "metadata": {},
   "outputs": [],
   "source": []
  },
  {
   "cell_type": "code",
   "execution_count": null,
   "metadata": {},
   "outputs": [],
   "source": []
  },
  {
   "cell_type": "code",
   "execution_count": null,
   "metadata": {},
   "outputs": [],
   "source": []
  }
 ],
 "metadata": {
  "kernelspec": {
   "display_name": "Python 3",
   "language": "python",
   "name": "python3"
  },
  "language_info": {
   "codemirror_mode": {
    "name": "ipython",
    "version": 3
   },
   "file_extension": ".py",
   "mimetype": "text/x-python",
   "name": "python",
   "nbconvert_exporter": "python",
   "pygments_lexer": "ipython3",
   "version": "3.13.1"
  }
 },
 "nbformat": 4,
 "nbformat_minor": 2
}
